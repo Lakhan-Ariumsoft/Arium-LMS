{
 "cells": [
  {
   "cell_type": "code",
   "execution_count": 6,
   "metadata": {},
   "outputs": [
    {
     "name": "stdout",
     "output_type": "stream",
     "text": [
      "hello\n",
      "name\n",
      "welcome\n"
     ]
    }
   ],
   "source": [
    "\n",
    "def decorator(func):\n",
    "    def wrapper():\n",
    "        print(\"hello\")\n",
    "        func()\n",
    "        print(\"welcome\")\n",
    "    return wrapper\n",
    "\n",
    "\n",
    "@decorator\n",
    "def fu():\n",
    "    print(\"name\")\n",
    "\n",
    "fu()"
   ]
  },
  {
   "cell_type": "code",
   "execution_count": 21,
   "metadata": {},
   "outputs": [
    {
     "name": "stdout",
     "output_type": "stream",
     "text": [
      "0\n"
     ]
    },
    {
     "ename": "TypeError",
     "evalue": "'Thread' object is not iterable",
     "output_type": "error",
     "traceback": [
      "\u001b[1;31m---------------------------------------------------------------------------\u001b[0m",
      "\u001b[1;31mTypeError\u001b[0m                                 Traceback (most recent call last)",
      "Cell \u001b[1;32mIn[21], line 12\u001b[0m\n\u001b[0;32m      9\u001b[0m thread \u001b[38;5;241m=\u001b[39m threading\u001b[38;5;241m.\u001b[39mThread(target\u001b[38;5;241m=\u001b[39mnum)\n\u001b[0;32m     10\u001b[0m thread\u001b[38;5;241m.\u001b[39mstart()\n\u001b[1;32m---> 12\u001b[0m \u001b[38;5;28;43;01mfor\u001b[39;49;00m\u001b[43m \u001b[49m\u001b[43mt\u001b[49m\u001b[43m \u001b[49m\u001b[38;5;129;43;01min\u001b[39;49;00m\u001b[43m \u001b[49m\u001b[43mthread\u001b[49m\u001b[43m:\u001b[49m\n\u001b[0;32m     13\u001b[0m \u001b[43m    \u001b[49m\u001b[38;5;28;43mprint\u001b[39;49m\u001b[43m(\u001b[49m\u001b[43mt\u001b[49m\u001b[43m)\u001b[49m\n\u001b[0;32m     14\u001b[0m \u001b[38;5;66;03m# thread.join\u001b[39;00m\n",
      "\u001b[1;31mTypeError\u001b[0m: 'Thread' object is not iterable"
     ]
    },
    {
     "name": "stdout",
     "output_type": "stream",
     "text": [
      "1\n",
      "2\n",
      "3\n",
      "4\n"
     ]
    }
   ],
   "source": [
    "import threading\n",
    "import time \n",
    "\n",
    "def num():\n",
    "    for i in range(0,5):\n",
    "        print(i)\n",
    "        time.sleep(1)\n",
    "\n",
    "thread = threading.Thread(target=num)\n",
    "thread.start()\n",
    "\n",
    "# for t in thread:\n",
    "#     print(t)\n",
    "# thread.join\n"
   ]
  },
  {
   "cell_type": "code",
   "execution_count": 12,
   "metadata": {},
   "outputs": [
    {
     "name": "stdout",
     "output_type": "stream",
     "text": [
      "300\n",
      "30\n"
     ]
    }
   ],
   "source": [
    "x = 30\n",
    "\n",
    "def ca():\n",
    "    # global x\n",
    "    x = 300\n",
    "    print(x)\n",
    "\n",
    "ca()\n",
    "print(x)\n",
    "\n",
    "\n"
   ]
  },
  {
   "cell_type": "code",
   "execution_count": 19,
   "metadata": {},
   "outputs": [
    {
     "name": "stdout",
     "output_type": "stream",
     "text": [
      "[[1, 2, 3], [4, 5, 6]]\n",
      "[[1, 2, 3], [4, 5, 6]]\n"
     ]
    }
   ],
   "source": [
    "import copy\n",
    "\n",
    "a = [[1,2,3],[4,5,6]]\n",
    "\n",
    "b = copy.copy(a)\n",
    "c = copy.deepcopy(a)\n",
    "print(b)\n",
    "print(c)\n"
   ]
  },
  {
   "cell_type": "code",
   "execution_count": 20,
   "metadata": {},
   "outputs": [
    {
     "name": "stdout",
     "output_type": "stream",
     "text": [
      "Task 0 is runningTask 1 is running\n",
      "\n",
      "Task 2 is running\n",
      "Task 3 is running\n",
      "Task 4 is running\n"
     ]
    }
   ],
   "source": [
    "from threading import Thread\n",
    "\n",
    "def task(name):\n",
    "    print(f\"Task {name} is running\")\n",
    "\n",
    "threads = [Thread(target=task, args=(i,)) for i in range(5)]\n",
    "for thread in threads:\n",
    "    thread.start()\n",
    "for thread in threads:\n",
    "    thread.join()\n"
   ]
  },
  {
   "cell_type": "code",
   "execution_count": 22,
   "metadata": {},
   "outputs": [
    {
     "name": "stdout",
     "output_type": "stream",
     "text": [
      "{'key': 'value'}\n"
     ]
    }
   ],
   "source": [
    "import pickle\n",
    "\n",
    "data = {\"key\": \"value\"}\n",
    "with open(\"data.pkl\", \"wb\") as f:\n",
    "    pickle.dump(data, f)\n",
    "\n",
    "with open(\"data.pkl\", \"rb\") as f:\n",
    "    loaded_data = pickle.load(f)\n",
    "print(loaded_data)  # {'key': 'value'}\n"
   ]
  },
  {
   "cell_type": "code",
   "execution_count": 23,
   "metadata": {},
   "outputs": [
    {
     "name": "stdout",
     "output_type": "stream",
     "text": [
      "Minimum time to rot all oranges: 4\n"
     ]
    }
   ],
   "source": [
    "from collections import deque\n",
    "\n",
    "def orangesRotting(grid):\n",
    "    rows, cols = len(grid), len(grid[0])\n",
    "    queue = deque()  # Queue to store rotten oranges and their time\n",
    "    fresh_count = 0  # Count of fresh oranges\n",
    "    \n",
    "    # Step 1: Initialize the queue with all rotten oranges\n",
    "    for r in range(rows):\n",
    "        for c in range(cols):\n",
    "            if grid[r][c] == 2:\n",
    "                queue.append((r, c, 0))  # (row, col, time)\n",
    "            elif grid[r][c] == 1:\n",
    "                fresh_count += 1  # Count fresh oranges\n",
    "    \n",
    "    # Step 2: BFS to rot adjacent fresh oranges\n",
    "    directions = [(0, 1), (1, 0), (0, -1), (-1, 0)]  # Right, Down, Left, Up\n",
    "    time_elapsed = 0\n",
    "    \n",
    "    while queue:\n",
    "        x, y, time = queue.popleft()\n",
    "        time_elapsed = max(time_elapsed, time)\n",
    "        \n",
    "        # Check all 4 adjacent cells\n",
    "        for dr, dc in directions:\n",
    "            nx, ny = x + dr, y + dc\n",
    "            if 0 <= nx < rows and 0 <= ny < cols and grid[nx][ny] == 1:\n",
    "                grid[nx][ny] = 2  # Mark as rotten\n",
    "                fresh_count -= 1\n",
    "                queue.append((nx, ny, time + 1))\n",
    "    \n",
    "    # Step 3: Check if there are any fresh oranges left\n",
    "    return time_elapsed if fresh_count == 0 else -1\n",
    "\n",
    "# Example Usage\n",
    "grid = [\n",
    "    [2, 1, 1],\n",
    "    [1, 1, 0],\n",
    "    [0, 1, 1]\n",
    "]\n",
    "\n",
    "result = orangesRotting(grid)\n",
    "print(\"Minimum time to rot all oranges:\", result)\n"
   ]
  },
  {
   "cell_type": "code",
   "execution_count": 24,
   "metadata": {},
   "outputs": [
    {
     "ename": "NameError",
     "evalue": "name 'yeild' is not defined",
     "output_type": "error",
     "traceback": [
      "\u001b[1;31m---------------------------------------------------------------------------\u001b[0m",
      "\u001b[1;31mNameError\u001b[0m                                 Traceback (most recent call last)",
      "Cell \u001b[1;32mIn[24], line 2\u001b[0m\n\u001b[0;32m      1\u001b[0m \u001b[38;5;28;01mfor\u001b[39;00m i \u001b[38;5;129;01min\u001b[39;00m \u001b[38;5;28mrange\u001b[39m(\u001b[38;5;241m0\u001b[39m,\u001b[38;5;241m10\u001b[39m):\n\u001b[1;32m----> 2\u001b[0m     \u001b[43myeild\u001b[49m(i)\n",
      "\u001b[1;31mNameError\u001b[0m: name 'yeild' is not defined"
     ]
    }
   ],
   "source": [
    "\n",
    "\n",
    "for i in range(0,10):\n",
    "    yeild(i)"
   ]
  },
  {
   "cell_type": "code",
   "execution_count": null,
   "metadata": {},
   "outputs": [],
   "source": []
  }
 ],
 "metadata": {
  "kernelspec": {
   "display_name": "Python 3",
   "language": "python",
   "name": "python3"
  },
  "language_info": {
   "codemirror_mode": {
    "name": "ipython",
    "version": 3
   },
   "file_extension": ".py",
   "mimetype": "text/x-python",
   "name": "python",
   "nbconvert_exporter": "python",
   "pygments_lexer": "ipython3",
   "version": "3.12.6"
  }
 },
 "nbformat": 4,
 "nbformat_minor": 2
}
